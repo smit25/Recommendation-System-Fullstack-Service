{
 "cells": [
  {
   "cell_type": "code",
   "execution_count": null,
   "metadata": {},
   "outputs": [],
   "source": [
    "import pandas as pd"
   ]
  },
  {
   "cell_type": "markdown",
   "metadata": {},
   "source": [
    "# Data Biases"
   ]
  },
  {
   "cell_type": "code",
   "execution_count": null,
   "metadata": {},
   "outputs": [],
   "source": [
    "from utils.sql import get_ratings_df\n",
    "df_ratings = get_ratings_df()"
   ]
  },
  {
   "cell_type": "code",
   "execution_count": null,
   "metadata": {},
   "outputs": [],
   "source": [
    "df_user = pd.read_json('user_data_full.json')\n",
    "df_movie = pd.read_json('movie_data_full.json')"
   ]
  },
  {
   "cell_type": "code",
   "execution_count": null,
   "metadata": {},
   "outputs": [],
   "source": [
    "df_ratings['user_id'] = df_ratings['user_id'].astype(int)"
   ]
  },
  {
   "cell_type": "code",
   "execution_count": null,
   "metadata": {},
   "outputs": [],
   "source": [
    "df = df_ratings.merge(df_user, on='user_id', how='right').merge(df_movie, left_on='movie_id', right_on='id', how='right')\n",
    "df['age_range'] = df['age'].apply(lambda x: f'{int(((x-1)//10)*10)}-{int(((x-1)//10)*10+9)}' if not pd.isnull(x) else None)\n",
    "df = df[['user_id', 'movie_id', 'rating', 'age', 'age_range', 'occupation', 'gender',\n",
    "         'adult', 'genres', 'release_date', 'spoken_languages']]\n",
    "\n",
    "g = df['genres'].apply(lambda lst: [d['name'] for d in lst]).str.join('|')\n",
    "genre_dummies = g.str.get_dummies(sep='|')\n",
    "df = pd.concat([df, genre_dummies], axis=1).drop(columns='genres')\n",
    "\n",
    "l = df['spoken_languages'].apply(lambda lst: [d['iso_639_1'] for d in lst]).str.join('|')\n",
    "language_dummies = l.str.get_dummies(sep='|')\n",
    "df = pd.concat([df, language_dummies], axis=1).drop(columns='spoken_languages')"
   ]
  },
  {
   "cell_type": "code",
   "execution_count": null,
   "metadata": {},
   "outputs": [],
   "source": [
    "df.groupby('gender').apply(\n",
    "    lambda x: (x[genre_dummies.columns].mean() * 100).sort_values(ascending=False).head(10)\n",
    ").reset_index().rename(columns={0: 'pct'}).pivot_table(values='pct', index='level_1', columns='gender').sort_values('F', ascending=False)"
   ]
  },
  {
   "cell_type": "code",
   "execution_count": null,
   "metadata": {},
   "outputs": [],
   "source": [
    "df.groupby('age_range').apply(\n",
    "    lambda x: (x[genre_dummies.columns].mean() * 100).sort_values(ascending=False).head(10)\n",
    ").reset_index().rename(columns={0: 'pct'}).pivot_table(values='pct', index='level_1', columns='age_range').sort_values('20-29', ascending=False)"
   ]
  },
  {
   "cell_type": "code",
   "execution_count": null,
   "metadata": {},
   "outputs": [],
   "source": [
    "(df[genre_dummies.columns].multiply(df['rating'], axis=0).sum()/df[genre_dummies.columns].sum()).sort_values(ascending=False)"
   ]
  },
  {
   "cell_type": "code",
   "execution_count": null,
   "metadata": {},
   "outputs": [],
   "source": [
    "df.groupby('gender').size()/len(df)"
   ]
  },
  {
   "cell_type": "code",
   "execution_count": null,
   "metadata": {},
   "outputs": [],
   "source": [
    "df.groupby('age_range').size()/len(df)"
   ]
  },
  {
   "cell_type": "markdown",
   "metadata": {},
   "source": [
    "# Fairness Analysis"
   ]
  },
  {
   "cell_type": "code",
   "execution_count": null,
   "metadata": {},
   "outputs": [],
   "source": [
    "from utils.sql import get_engine\n",
    "from sqlalchemy import text\n",
    "engine = get_engine()\n",
    "\n",
    "with engine.begin() as con:\n",
    "    query = '''\n",
    "    SELECT * FROM recommend WHERE timestamp BETWEEN (\n",
    "        SELECT MIN(timestamp) FROM watch\n",
    "    ) AND (\n",
    "        SELECT MAX(timestamp) FROM watch\n",
    "    )\n",
    "    '''\n",
    "    df_recommend = pd.read_sql_query(text(query), con)\n",
    "    df_watch = pd.read_sql_table('watch', con)\n"
   ]
  },
  {
   "cell_type": "code",
   "execution_count": null,
   "metadata": {},
   "outputs": [],
   "source": [
    "df_watch['timestamp']   = pd.to_datetime(df_watch['timestamp'])\n",
    "df_recommend['timestamp'] = pd.to_datetime(df_recommend['timestamp'])\n",
    "\n",
    "df_recommend = df_recommend.reset_index().rename(columns={'index':'rec_idx'})\n",
    "\n",
    "df_recommend['rec_list'] = (\n",
    "    df_recommend['recommendations']\n",
    "    .str.split(', ')\n",
    "    .apply(lambda lst: [x for x in lst])\n",
    ")\n",
    "\n",
    "df_rec = (\n",
    "    df_recommend[['rec_idx','user_id','timestamp','rec_list']]\n",
    "    .explode('rec_list')\n",
    "    .rename(columns={'timestamp':'rec_ts', 'rec_list':'movie_id'})\n",
    ")\n",
    "\n",
    "df_merge = pd.merge(\n",
    "    df_rec,\n",
    "    df_watch.rename(columns={'timestamp':'watched_ts'}),\n",
    "    on=['user_id','movie_id'],\n",
    "    how='inner'\n",
    ")\n",
    "\n",
    "df_success = df_merge[\n",
    "    (df_merge['watched_ts'] >= df_merge['rec_ts']) &\n",
    "    (df_merge['watched_ts'] <= df_merge['rec_ts'] + pd.Timedelta(hours=24))\n",
    "]\n",
    "\n",
    "success_flags = (\n",
    "    df_success[['rec_idx']]\n",
    "    .drop_duplicates()\n",
    "    .assign(success=1)\n",
    ")\n",
    "\n",
    "df_recommend = (\n",
    "    df_recommend\n",
    "    .merge(success_flags, on='rec_idx', how='left')\n",
    "    .fillna({'success': 0})\n",
    ")\n",
    "\n",
    "df_recommend['success'] = df_recommend['success'].astype(int)\n",
    "\n",
    "df_recommend = df_recommend[['user_id', 'success']]\n",
    "df_recommend['user_id'] = df_recommend['user_id'].astype(int)\n",
    "df_recommend = df_recommend.merge(df_user, on='user_id')\n",
    "df_recommend['age_range'] = df_recommend['age'].apply(lambda x: f'{int(((x-1)//10)*10)}-{int(((x-1)//10)*10+9)}' if not pd.isnull(x) else None)\n"
   ]
  },
  {
   "cell_type": "code",
   "execution_count": null,
   "metadata": {},
   "outputs": [],
   "source": [
    "df_recommend.groupby('success').size()"
   ]
  },
  {
   "cell_type": "code",
   "execution_count": null,
   "metadata": {},
   "outputs": [],
   "source": [
    "df_recommend.groupby('gender')[['success']].mean()"
   ]
  },
  {
   "cell_type": "code",
   "execution_count": null,
   "metadata": {},
   "outputs": [],
   "source": [
    "df_recommend.groupby('age_range')[['success']].mean()"
   ]
  }
 ],
 "metadata": {
  "kernelspec": {
   "display_name": "AIE",
   "language": "python",
   "name": "python3"
  },
  "language_info": {
   "codemirror_mode": {
    "name": "ipython",
    "version": 3
   },
   "file_extension": ".py",
   "mimetype": "text/x-python",
   "name": "python",
   "nbconvert_exporter": "python",
   "pygments_lexer": "ipython3",
   "version": "3.10.16"
  }
 },
 "nbformat": 4,
 "nbformat_minor": 2
}
